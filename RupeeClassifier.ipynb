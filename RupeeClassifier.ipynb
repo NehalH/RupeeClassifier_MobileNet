{
  "cells": [
    {
      "cell_type": "markdown",
      "metadata": {
        "id": "view-in-github",
        "colab_type": "text"
      },
      "source": [
        "<a href=\"https://colab.research.google.com/github/NehalH/RupeeClassifier_MobileNet/blob/main/RupeeClassifier.ipynb\" target=\"_parent\"><img src=\"https://colab.research.google.com/assets/colab-badge.svg\" alt=\"Open In Colab\"/></a>"
      ]
    },
    {
      "cell_type": "markdown",
      "source": [],
      "metadata": {
        "id": "o6zSE9kEAlxK"
      }
    },
    {
      "cell_type": "code",
      "execution_count": 1,
      "metadata": {
        "colab": {
          "base_uri": "https://localhost:8080/"
        },
        "id": "VDzzYoPBfjGk",
        "outputId": "c69cade2-b43a-48db-f245-676d462a5db9"
      },
      "outputs": [
        {
          "output_type": "stream",
          "name": "stdout",
          "text": [
            "Drive already mounted at /content/drive; to attempt to forcibly remount, call drive.mount(\"/content/drive\", force_remount=True).\n"
          ]
        }
      ],
      "source": [
        "from google.colab import drive\n",
        "drive.mount('/content/drive')"
      ]
    },
    {
      "cell_type": "code",
      "execution_count": 2,
      "metadata": {
        "colab": {
          "base_uri": "https://localhost:8080/"
        },
        "id": "jtBBOZQaj8sC",
        "outputId": "11be693e-77f2-4acf-82df-d47ac89dc1e2"
      },
      "outputs": [
        {
          "output_type": "stream",
          "name": "stdout",
          "text": [
            "Found 1269 images belonging to 5 classes.\n"
          ]
        }
      ],
      "source": [
        "from tensorflow.keras.preprocessing.image import ImageDataGenerator\n",
        "\n",
        "# Define an ImageDataGenerator for training data\n",
        "train_datagen = ImageDataGenerator(rescale=1./255)\n",
        "\n",
        "# Specify the path to your dataset on Google Drive\n",
        "dataset_path = '/content/drive/MyDrive/A-eye/Datasets/Indian Currency Dataset'\n",
        "\n",
        "# Manually specify the classes\n",
        "class_names = ['10', '20', '50', '100', '200']\n",
        "\n",
        "# Create a data generator for training images with manual class specification\n",
        "train_generator = train_datagen.flow_from_directory(\n",
        "    dataset_path,\n",
        "    target_size=(224, 224),\n",
        "    batch_size=32,\n",
        "    class_mode='categorical',\n",
        "    classes=class_names  # Manually specify the class names\n",
        ")"
      ]
    },
    {
      "cell_type": "code",
      "execution_count": 3,
      "metadata": {
        "colab": {
          "base_uri": "https://localhost:8080/"
        },
        "id": "41yoGJ7ckqlS",
        "outputId": "a32efd8f-5767-4c7c-affc-e39eb34e2203"
      },
      "outputs": [
        {
          "output_type": "stream",
          "name": "stdout",
          "text": [
            "Epoch 1/10\n",
            "40/40 [==============================] - 224s 5s/step - loss: 0.4688 - accuracy: 0.8392\n",
            "Epoch 2/10\n",
            "40/40 [==============================] - 201s 5s/step - loss: 0.1113 - accuracy: 0.9638\n",
            "Epoch 3/10\n",
            "40/40 [==============================] - 197s 5s/step - loss: 0.0332 - accuracy: 0.9882\n",
            "Epoch 4/10\n",
            "40/40 [==============================] - 201s 5s/step - loss: 0.0678 - accuracy: 0.9827\n",
            "Epoch 5/10\n",
            "40/40 [==============================] - 202s 5s/step - loss: 0.0745 - accuracy: 0.9756\n",
            "Epoch 6/10\n",
            "40/40 [==============================] - 204s 5s/step - loss: 0.0611 - accuracy: 0.9858\n",
            "Epoch 7/10\n",
            "40/40 [==============================] - 217s 5s/step - loss: 0.0743 - accuracy: 0.9835\n",
            "Epoch 8/10\n",
            "40/40 [==============================] - 213s 5s/step - loss: 0.0742 - accuracy: 0.9724\n",
            "Epoch 9/10\n",
            "40/40 [==============================] - 213s 5s/step - loss: 0.0485 - accuracy: 0.9835\n",
            "Epoch 10/10\n",
            "40/40 [==============================] - 194s 5s/step - loss: 0.0776 - accuracy: 0.9811\n"
          ]
        },
        {
          "output_type": "execute_result",
          "data": {
            "text/plain": [
              "<keras.src.callbacks.History at 0x786130106800>"
            ]
          },
          "metadata": {},
          "execution_count": 3
        }
      ],
      "source": [
        "from tensorflow.keras.applications import MobileNet\n",
        "from tensorflow.keras.models import Sequential\n",
        "from tensorflow.keras.layers import Dense, GlobalAveragePooling2D\n",
        "\n",
        "# Load MobileNet base model (pre-trained on ImageNet)\n",
        "base_model = MobileNet(weights='imagenet', include_top=False, input_shape=(224, 224, 3))\n",
        "\n",
        "# Build your custom model on top of MobileNet\n",
        "model = Sequential([\n",
        "    base_model,\n",
        "    GlobalAveragePooling2D(),\n",
        "    Dense(128, activation='relu'),\n",
        "    Dense(len(class_names), activation='softmax')\n",
        "])\n",
        "\n",
        "# Compile the model\n",
        "model.compile(optimizer='adam', loss='categorical_crossentropy', metrics=['accuracy'])\n",
        "\n",
        "# Train the model on the training data\n",
        "model.fit(train_generator, epochs=10)  # Adjust the number of epochs based on your requirements"
      ]
    },
    {
      "cell_type": "code",
      "execution_count": 6,
      "metadata": {
        "id": "e5vAUfluk8gg"
      },
      "outputs": [],
      "source": [
        "import tensorflow as tf\n",
        "\n",
        "# Convert the model to TensorFlow Lite\n",
        "converter = tf.lite.TFLiteConverter.from_keras_model(model)\n",
        "tflite_model = converter.convert()\n",
        "\n",
        "# Save the TFLite model\n",
        "with open('/content/drive/MyDrive/A-eye/Models/rupee_classifier_mobilenet_model.tflite', 'wb') as f:\n",
        "    f.write(tflite_model)\n"
      ]
    }
  ],
  "metadata": {
    "accelerator": "GPU",
    "colab": {
      "provenance": [],
      "authorship_tag": "ABX9TyM5n0I+6qlm4kh1pOCOUR0h",
      "include_colab_link": true
    },
    "kernelspec": {
      "display_name": "Python 3",
      "name": "python3"
    },
    "language_info": {
      "name": "python"
    }
  },
  "nbformat": 4,
  "nbformat_minor": 0
}