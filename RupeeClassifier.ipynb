{
  "cells": [
    {
      "cell_type": "markdown",
      "metadata": {
        "id": "view-in-github",
        "colab_type": "text"
      },
      "source": [
        "<a href=\"https://colab.research.google.com/github/NehalH/RupeeClassifier_MobileNet/blob/main/RupeeClassifier.ipynb\" target=\"_parent\"><img src=\"https://colab.research.google.com/assets/colab-badge.svg\" alt=\"Open In Colab\"/></a>"
      ]
    },
    {
      "cell_type": "markdown",
      "source": [],
      "metadata": {
        "id": "o6zSE9kEAlxK"
      }
    },
    {
      "cell_type": "code",
      "execution_count": null,
      "metadata": {
        "id": "VDzzYoPBfjGk"
      },
      "outputs": [],
      "source": [
        "# Mount drive\n",
        "\n",
        "from google.colab import drive\n",
        "drive.mount('/content/drive')"
      ]
    },
    {
      "cell_type": "code",
      "execution_count": null,
      "metadata": {
        "colab": {
          "base_uri": "https://localhost:8080/"
        },
        "id": "jtBBOZQaj8sC",
        "outputId": "08d8fb58-f520-4c14-b369-50dee01b9b98"
      },
      "outputs": [
        {
          "output_type": "stream",
          "name": "stdout",
          "text": [
            "Found 1269 images belonging to 5 classes.\n"
          ]
        }
      ],
      "source": [
        "from tensorflow.keras.preprocessing.image import ImageDataGenerator\n",
        "\n",
        "# Define an ImageDataGenerator for training data\n",
        "train_datagen = ImageDataGenerator(rescale=1./255)\n",
        "\n",
        "# Specify the path to your dataset on Google Drive\n",
        "dataset_path = '/content/drive/MyDrive/A-eye/Datasets/Indian Currency Dataset'\n",
        "\n",
        "# Manually specify the classes\n",
        "class_names = ['10', '20', '50', '100', '200']\n",
        "\n",
        "# Create a data generator for training images with manual class specification\n",
        "train_generator = train_datagen.flow_from_directory(\n",
        "    dataset_path,\n",
        "    target_size=(224, 224),\n",
        "    batch_size=32,\n",
        "    class_mode='categorical',\n",
        "    classes=class_names  # Manually specify the class names\n",
        ")"
      ]
    },
    {
      "cell_type": "code",
      "execution_count": null,
      "metadata": {
        "colab": {
          "base_uri": "https://localhost:8080/"
        },
        "id": "41yoGJ7ckqlS",
        "outputId": "5dee824e-20d2-4a53-aa0b-930c149b394b"
      },
      "outputs": [
        {
          "output_type": "stream",
          "name": "stdout",
          "text": [
            "Downloading data from https://storage.googleapis.com/tensorflow/keras-applications/mobilenet/mobilenet_1_0_224_tf_no_top.h5\n",
            "17225924/17225924 [==============================] - 0s 0us/step\n",
            "Epoch 1/10\n",
            "40/40 [==============================] - 540s 13s/step - loss: 0.3846 - accuracy: 0.8629\n",
            "Epoch 2/10\n",
            "40/40 [==============================] - 198s 5s/step - loss: 0.1620 - accuracy: 0.9598\n",
            "Epoch 3/10\n",
            "40/40 [==============================] - 201s 5s/step - loss: 0.0962 - accuracy: 0.9740\n",
            "Epoch 4/10\n",
            "40/40 [==============================] - 201s 5s/step - loss: 0.0883 - accuracy: 0.9701\n",
            "Epoch 5/10\n",
            "40/40 [==============================] - 202s 5s/step - loss: 0.0531 - accuracy: 0.9779\n",
            "Epoch 6/10\n",
            "40/40 [==============================] - 207s 5s/step - loss: 0.0502 - accuracy: 0.9842\n",
            "Epoch 7/10\n",
            "40/40 [==============================] - 206s 5s/step - loss: 0.0886 - accuracy: 0.9685\n",
            "Epoch 8/10\n",
            "40/40 [==============================] - 219s 5s/step - loss: 0.1102 - accuracy: 0.9732\n",
            "Epoch 9/10\n",
            "40/40 [==============================] - 208s 5s/step - loss: 0.0419 - accuracy: 0.9850\n",
            "Epoch 10/10\n",
            "40/40 [==============================] - 204s 5s/step - loss: 0.0432 - accuracy: 0.9874\n"
          ]
        },
        {
          "output_type": "stream",
          "name": "stderr",
          "text": [
            "WARNING:absl:`mobilenet_1.00_224_input` is not a valid tf.function parameter name. Sanitizing to `mobilenet_1_00_224_input`.\n",
            "WARNING:absl:`mobilenet_1.00_224_input` is not a valid tf.function parameter name. Sanitizing to `mobilenet_1_00_224_input`.\n",
            "WARNING:absl:`mobilenet_1.00_224_input` is not a valid tf.function parameter name. Sanitizing to `mobilenet_1_00_224_input`.\n"
          ]
        }
      ],
      "source": [
        "from tensorflow.keras.applications import MobileNet\n",
        "from tensorflow.keras.models import Sequential\n",
        "from tensorflow.keras.layers import Dense, GlobalAveragePooling2D\n",
        "\n",
        "# Load MobileNet base model (pre-trained on ImageNet)\n",
        "base_model = MobileNet(weights='imagenet', include_top=False, input_shape=(224, 224, 3))\n",
        "\n",
        "# Build your custom model on top of MobileNet\n",
        "model = Sequential([\n",
        "    base_model,\n",
        "    GlobalAveragePooling2D(),\n",
        "    Dense(128, activation='relu'),\n",
        "    Dense(len(class_names), activation='softmax')\n",
        "])\n",
        "\n",
        "# Compile the model\n",
        "model.compile(optimizer='adam', loss='categorical_crossentropy', metrics=['accuracy'])\n",
        "\n",
        "# Train the model on the training data\n",
        "model.fit(train_generator, epochs=10)  # Adjust the number of epochs based on your requirements\n",
        "\n",
        "# Save the model in .tf format\n",
        "tf_model_path = '/content/drive/MyDrive/A-eye/Models/Rupee_Classifier/rupee_classifier.tf'\n",
        "model.save(tf_model_path, save_format='tf')"
      ]
    },
    {
      "cell_type": "code",
      "execution_count": null,
      "metadata": {
        "id": "e5vAUfluk8gg"
      },
      "outputs": [],
      "source": [
        "import tensorflow as tf\n",
        "\n",
        "# Convert the model to Unquantized TensorFlow Lite\n",
        "unquantized_converter = tf.lite.TFLiteConverter.from_saved_model(tf_model_path)\n",
        "unquantized_tflite_model = unquantized_converter.convert()\n",
        "\n",
        "# Save the TFLite model\n",
        "with open('/content/drive/MyDrive/A-eye/Models/Rupee_Classifier/rupee_classifier_unquant.tflite', 'wb') as f:\n",
        "    f.write(unquantized_tflite_model)\n"
      ]
    },
    {
      "cell_type": "code",
      "source": [
        "# Convert the model to Quantized TensorFlow Lite\n",
        "\n",
        "quantized_converter = tf.lite.TFLiteConverter.from_saved_model(tf_model_path)\n",
        "\n",
        "# Enable quantization\n",
        "quantized_converter.optimizations = [tf.lite.Optimize.DEFAULT]\n",
        "\n",
        "quantized_tflite_model = quantized_converter.convert()\n",
        "\n",
        "# Save the Quantized TFLite model\n",
        "with open('/content/drive/MyDrive/A-eye/Models/Rupee_Classifier/rupee_classifier_quant.tflite', 'wb') as f:\n",
        "    f.write(quantized_tflite_model)"
      ],
      "metadata": {
        "id": "Nl1g4PAzshaP"
      },
      "execution_count": null,
      "outputs": []
    },
    {
      "cell_type": "code",
      "source": [
        "# Path to save the labels file\n",
        "labels_path = '/content/drive/MyDrive/A-eye/Models/Rupee_Classifier/labels.txt'\n",
        "\n",
        "# Write class names to the labels file\n",
        "with open(labels_path, 'w') as f:\n",
        "    for class_name in class_names:\n",
        "        f.write(f\"{class_name}\\n\")"
      ],
      "metadata": {
        "id": "OU7w1JtkvL3D"
      },
      "execution_count": null,
      "outputs": []
    },
    {
      "cell_type": "markdown",
      "source": [
        "##Testing"
      ],
      "metadata": {
        "id": "RxuHpGQaQPmt"
      }
    },
    {
      "cell_type": "code",
      "source": [
        "import tensorflow as tf\n",
        "from PIL import Image\n",
        "import numpy as np\n",
        "\n",
        "# Load the Quantized TFLite model\n",
        "tflite_model_path = '/content/drive/MyDrive/A-eye/Models/Rupee_Classifier/rupee_classifier_quant.tflite'\n",
        "interpreter = tf.lite.Interpreter(model_path=tflite_model_path)\n",
        "interpreter.allocate_tensors()\n",
        "\n",
        "# Load the labels\n",
        "labels_path = '/content/drive/MyDrive/A-eye/Models/Rupee_Classifier/labels.txt'\n",
        "with open(labels_path, 'r') as f:\n",
        "    labels = [line.strip() for line in f.readlines()]\n",
        "\n",
        "# Load a custom image\n",
        "custom_image_path = '/content/test_dataset/8etrnzyzuz1b1.jpg'  # Replace with the path to your image\n",
        "custom_image = Image.open(custom_image_path).resize((224, 224))\n",
        "\n",
        "# Preprocess the image\n",
        "input_tensor_index = interpreter.get_input_details()[0]['index']\n",
        "input_tensor = np.expand_dims(custom_image, axis=0) / 255.0  # Assuming normalization to [0, 1]\n",
        "interpreter.set_tensor(input_tensor_index, input_tensor.astype(np.float32))\n",
        "\n",
        "# Run inference\n",
        "interpreter.invoke()\n",
        "\n",
        "# Get the output\n",
        "output_tensor_index = interpreter.get_output_details()[0]['index']\n",
        "output_tensor = interpreter.get_tensor(output_tensor_index)\n",
        "\n",
        "# Get the predicted class index\n",
        "predicted_class_index = np.argmax(output_tensor)\n",
        "\n",
        "# Get the predicted class label\n",
        "predicted_class_label = labels[predicted_class_index]\n",
        "\n",
        "print(f\"Predicted Class: {predicted_class_label}\")\n"
      ],
      "metadata": {
        "id": "9XZzlv4TQQ_q",
        "colab": {
          "base_uri": "https://localhost:8080/"
        },
        "outputId": "62730a6b-ae7b-4f39-fb95-c9a8585bedaa"
      },
      "execution_count": null,
      "outputs": [
        {
          "output_type": "stream",
          "name": "stdout",
          "text": [
            "Predicted Class: 20\n"
          ]
        }
      ]
    }
  ],
  "metadata": {
    "accelerator": "GPU",
    "colab": {
      "provenance": [],
      "authorship_tag": "ABX9TyMyrb1/IN/Qw2mbyWIszjyl",
      "include_colab_link": true
    },
    "kernelspec": {
      "display_name": "Python 3",
      "name": "python3"
    },
    "language_info": {
      "name": "python"
    }
  },
  "nbformat": 4,
  "nbformat_minor": 0
}